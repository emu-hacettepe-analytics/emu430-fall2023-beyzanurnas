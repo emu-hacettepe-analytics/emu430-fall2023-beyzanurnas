{
  "cells": [
    {
      "cell_type": "raw",
      "metadata": {},
      "source": [
        "---\n",
        "title: \"Untitled\"\n",
        "sidebar: true\n",
        "---"
      ],
      "id": "3175b248"
    },
    {
      "cell_type": "markdown",
      "metadata": {},
      "source": [
        "## tsp\n"
      ],
      "id": "37282633"
    },
    {
      "cell_type": "code",
      "metadata": {},
      "source": [
        "#CHEBYSHEV\n",
        "import cvxpy as cp\n",
        "import numpy as np\n",
        "import matplotlib.pyplot as plt\n",
        "\n",
        "np.random.seed(1)\n",
        "m = 100\n",
        "points = [(5*np.random.rand(), 5*np.random.rand()) for i in range(m)] # 3 std, 5std ???\n"
      ],
      "id": "1b65ed68",
      "execution_count": null,
      "outputs": []
    },
    {
      "cell_type": "code",
      "metadata": {},
      "source": [
        "# variable declatation\n",
        "x = cp.Variable((2,1))\n",
        "r = cp.Variable(1)\n",
        "\n",
        "# objective definition\n",
        "obj = cp.Minimize(r)\n",
        "\n",
        "# constr\n",
        "constraints = [cp.norm(x - [points[i]]) <= r for i in range(m)]\n",
        "\n",
        "# contruct prob\n",
        "problem = cp.Problem(obj, constraints)\n",
        "\n",
        "# solve & report\n",
        "print(problem.solve())\n",
        "print(problem.status)\n",
        "print(problem.solver_stats.solve_time)\n",
        "print(x.value) # center loc"
      ],
      "id": "d0af11f7",
      "execution_count": null,
      "outputs": []
    }
  ],
  "metadata": {
    "kernelspec": {
      "display_name": "Python 3",
      "language": "python",
      "name": "python3"
    }
  },
  "nbformat": 4,
  "nbformat_minor": 5
}