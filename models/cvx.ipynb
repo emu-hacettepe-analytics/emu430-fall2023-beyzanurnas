{
  "cells": [
    {
      "cell_type": "raw",
      "metadata": {},
      "source": [
        "---\n",
        "title: \"cvx\"\n",
        "format: html\n",
        "editor: visual\n",
        "---"
      ],
      "id": "ae072ee7"
    },
    {
      "cell_type": "markdown",
      "metadata": {},
      "source": [
        "tchebycheff ball\n"
      ],
      "id": "8f7c15cf"
    },
    {
      "cell_type": "code",
      "metadata": {},
      "source": [
        "import cvxpy as cp\n",
        "import numpy as np\n",
        "import matplotlib.pyplot as plt\n",
        "\n",
        "np.random.seed(1)\n",
        "m = 100\n",
        "\n",
        "points = [(5*np.random.rand(), 5*np.random.rand()) for i in range(m)]\n",
        "# variable declaration\n",
        "x = cp.Variable((2,1))\n",
        "r = cp.Variable(1)\n",
        "\n",
        "# objective defiinition\n",
        "obj = cp.Minimize(r)\n",
        "\n",
        "# constraints\n",
        "constraints = [cp.norm(x-[points[i]]) <= r for i in range(m)]\n",
        "\n",
        "# construct problem\n",
        "problem = cp.Problem(obj, constraints)\n",
        "\n",
        "# solve problem and report results\n",
        "print(problem.solve()) # radius\n",
        "print(problem.status)\n",
        "print(problem.solver_stats.solve_time)\n",
        "print(x.value) # center location"
      ],
      "id": "3f6a0208",
      "execution_count": null,
      "outputs": []
    },
    {
      "cell_type": "code",
      "metadata": {},
      "source": [
        "#| echo: true\n",
        "\n",
        "plt.scatter(x.value[0], x.value[1], color = 'black', marker = 'v' )\n",
        "for i in range(m):\n",
        "    plt.scatter(points[i][0], points[i][1])\n",
        "ax = plt.gca()\n",
        "ax.set_aspect('equal')\n",
        "circle = plt.Circle(x.value, radius = r.value, fill = False)\n",
        "ax.add_artist(circle)"
      ],
      "id": "f7759cd1",
      "execution_count": null,
      "outputs": []
    },
    {
      "cell_type": "markdown",
      "metadata": {},
      "source": [
        "The `echo: false` option disables the printing of c\n"
      ],
      "id": "424cc4f3"
    },
    {
      "cell_type": "code",
      "metadata": {},
      "source": [
        "w = np.array([[2], [1]])\n",
        "beta = -1\n",
        "z = [(0,0)]\n",
        "\n",
        "#variable declatarion\n",
        "x = cp.Variable((2,1))\n",
        "\n",
        "#objective definition\n",
        "obj = cp.Minimize(cp.norm(x-z))\n",
        "\n",
        "#constraints\n",
        "constraints = [w.T@x + beta == 0]\n",
        "\n",
        "#problem definition\n",
        "problem = cp.Problem(obj, constraints)\n",
        "\n",
        "#solve problem and report results\n",
        "print(problem.solve())\n",
        "print(problem.status)\n",
        "print(problem.solver_stats.solve_time)\n",
        "print(x.value) # closest point"
      ],
      "id": "d72f440b",
      "execution_count": null,
      "outputs": []
    },
    {
      "cell_type": "markdown",
      "metadata": {},
      "source": [
        "ode (only output is displayed)."
      ],
      "id": "e0e9ee3b"
    }
  ],
  "metadata": {
    "kernelspec": {
      "display_name": "Python 3",
      "language": "python",
      "name": "python3"
    }
  },
  "nbformat": 4,
  "nbformat_minor": 5
}